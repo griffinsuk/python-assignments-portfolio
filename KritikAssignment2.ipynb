{
 "cells": [
  {
   "cell_type": "code",
   "execution_count": null,
   "id": "d98b931f-142a-46b6-b855-90d854f7c870",
   "metadata": {},
   "outputs": [],
   "source": [
    "#Code for Assignment #2"
   ]
  },
  {
   "cell_type": "code",
   "execution_count": 21,
   "id": "9040a478-5a42-430e-94ca-295adf5f2288",
   "metadata": {},
   "outputs": [
    {
     "name": "stdout",
     "output_type": "stream",
     "text": [
      "0.2698741376 1.9999999999 3.1415926536 6.9999999999\n"
     ]
    }
   ],
   "source": [
    "import matplotlib.pyplot as plt # MatPlotLib: Plotting library for Python\n",
    "import numpy as np # NumPy: N-dimensional array for numerical computation\n",
    "%matplotlib inline\n",
    "import pandas as pd  # to deal with data\n",
    "\n",
    "def roots(f, a, b, tol=1e-10, max_iter=1000):\n",
    "    \n",
    "    iteration = 0\n",
    "    while (b - a) / 2 > tol and iteration < max_iter:\n",
    "        c = (a + b) / 2  # Midpoint\n",
    "        if f(c) == 0 or (b - a) / 2 < tol:\n",
    "            return round(c, 10)\n",
    "        elif f(a) * f(c) < 0:\n",
    "            b = c\n",
    "        else:\n",
    "            a = c\n",
    "        iteration += 1\n",
    "\n",
    "    return round((a + b) / 2, 10)\n",
    "\n",
    "# Define the functions to test\n",
    "def f1(x):\n",
    "    return np.exp(x) + np.log(x)\n",
    "\n",
    "def f2(x):\n",
    "    return np.arctan(x) - x**2\n",
    "\n",
    "def f3(x):\n",
    "    return np.sin(x)\n",
    "\n",
    "def f4(x):\n",
    "    return np.log(np.cos(x))\n",
    "\n",
    "root_f1 = roots(f1, 0.01, 1)\n",
    "root_f2 = roots(f2, 0, 2)\n",
    "root_f3 = roots(f3, 3, 4)\n",
    "root_f4 = roots(f4, 5, 7)\n",
    "\n",
    "print(root_f1, root_f2, root_f3, root_f4)"
   ]
  },
  {
   "cell_type": "code",
   "execution_count": null,
   "id": "aff5ac38-abce-4e9b-a4ca-3ae1b3b177bc",
   "metadata": {},
   "outputs": [],
   "source": []
  },
  {
   "cell_type": "code",
   "execution_count": null,
   "id": "dc56e920-de21-427a-b50e-1b964677131b",
   "metadata": {},
   "outputs": [],
   "source": []
  }
 ],
 "metadata": {
  "kernelspec": {
   "display_name": "Python 3 (ipykernel)",
   "language": "python",
   "name": "python3"
  },
  "language_info": {
   "codemirror_mode": {
    "name": "ipython",
    "version": 3
   },
   "file_extension": ".py",
   "mimetype": "text/x-python",
   "name": "python",
   "nbconvert_exporter": "python",
   "pygments_lexer": "ipython3",
   "version": "3.11.9"
  }
 },
 "nbformat": 4,
 "nbformat_minor": 5
}
