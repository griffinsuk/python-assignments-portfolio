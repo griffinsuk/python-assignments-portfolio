{
 "cells": [
  {
   "cell_type": "code",
   "execution_count": 1,
   "id": "ebd00835-bd7d-44ab-81d9-e7d0b643a669",
   "metadata": {},
   "outputs": [
    {
     "name": "stdout",
     "output_type": "stream",
     "text": [
      "Test Case (i): No such values x1 and x2 were found within the range.\n",
      "Test Case (ii): No such values x1 and x2 were found within the range.\n",
      "Test Case (iii): No such values x1 and x2 were found within the range.\n"
     ]
    }
   ],
   "source": [
    "import math\n",
    "\n",
    "def central_difference_derivative(f, c, delta_x=1e-8):\n",
    "\n",
    "    return (f(c + delta_x) - f(c - delta_x)) / (2 * delta_x)\n",
    "\n",
    "def linear_approximation(f, f_prime, c):\n",
    "\n",
    "    \n",
    "    def L(x):\n",
    "        return f(c) + f_prime * (x - c)\n",
    "    return L\n",
    "\n",
    "def find_x1_x2(f, L, c, E, max_iterations=100000):\n",
    "\n",
    "    x1, x2 = c - 1e-5, c + 1e-5 \n",
    "    step = 1e-6                   \n",
    "    found_x1 = found_x2 = False\n",
    "\n",
    "    for _ in range(max_iterations):\n",
    "\n",
    "        error_x1 = abs(f(x1) - L(x1))\n",
    "        error_x2 = abs(f(x2) - L(x2))\n",
    "\n",
    "        if not found_x1 and error_x1 >= E:\n",
    "            found_x1 = True\n",
    "        if not found_x2 and error_x2 >= E:\n",
    "            found_x2 = True\n",
    "\n",
    "        if found_x1 and found_x2:\n",
    "            return x1, x2\n",
    "\n",
    "        if not found_x1:\n",
    "            x1 -= step\n",
    "        if not found_x2:\n",
    "            x2 += step\n",
    "\n",
    "    return \"No such values x1 and x2 were found within the range.\"\n",
    "\n",
    "def linear_approximation_with_error(f, c, E):\n",
    "    \"\"\"\n",
    "    Full process:\n",
    "    1. Approximates the derivative of f at c.\n",
    "    2. Uses it for the linear approximation.\n",
    "    3. Finds x1 and x2 with specified error E.\n",
    "    \"\"\"\n",
    "\n",
    "    f_prime = central_difference_derivative(f, c)\n",
    "\n",
    " \n",
    "    L = linear_approximation(f, f_prime, c)\n",
    "\n",
    "    result = find_x1_x2(f, L, c, E)\n",
    "\n",
    "    return result\n",
    "\n",
    "f1 = lambda x: x**2\n",
    "c1, E1 = 1, 0.1\n",
    "print(\"Test Case (i):\", linear_approximation_with_error(f1, c1, E1))\n",
    "\n",
    "f2 = math.sin\n",
    "c2, E2 = math.pi / 4, 0.05\n",
    "print(\"Test Case (ii):\", linear_approximation_with_error(f2, c2, E2))\n",
    "\n",
    "f3 = math.exp\n",
    "c3, E3 = 0, 0.01\n",
    "print(\"Test Case (iii):\", linear_approximation_with_error(f3, c3, E3))"
   ]
  },
  {
   "cell_type": "code",
   "execution_count": null,
   "id": "88a9c730-aa5b-4a65-83a6-2d652ae64666",
   "metadata": {},
   "outputs": [],
   "source": []
  }
 ],
 "metadata": {
  "kernelspec": {
   "display_name": "Python 3 (ipykernel)",
   "language": "python",
   "name": "python3"
  },
  "language_info": {
   "codemirror_mode": {
    "name": "ipython",
    "version": 3
   },
   "file_extension": ".py",
   "mimetype": "text/x-python",
   "name": "python",
   "nbconvert_exporter": "python",
   "pygments_lexer": "ipython3",
   "version": "3.11.9"
  }
 },
 "nbformat": 4,
 "nbformat_minor": 5
}
